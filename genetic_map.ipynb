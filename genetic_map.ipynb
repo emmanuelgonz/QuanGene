{
 "cells": [
  {
   "cell_type": "code",
   "execution_count": 1,
   "metadata": {},
   "outputs": [],
   "source": [
    "import pandas as pd\n",
    "import numpy as np \n",
    "import warnings\n",
    "import itertools\n",
    "warnings.filterwarnings(\"ignore\")"
   ]
  },
  {
   "cell_type": "code",
   "execution_count": 2,
   "metadata": {},
   "outputs": [],
   "source": [
    "def get_single_recombination_frequency(df, snp_1, snp_2):\n",
    "    sample_df = df[[snp_1, snp_2]]\n",
    "    sample_df['pa_recombination'] = sample_df.apply(lambda row: 1 if row[snp_1] != row[snp_2] else 0, axis=1)\n",
    "    recombination_frequency = len(sample_df[sample_df['pa_recombination']==1])/len(sample_df)\n",
    "    return recombination_frequency\n",
    "\n",
    "\n",
    "# --------------------------------------------------\n",
    "def get_pair_order_list(available_snps):\n",
    "    pair_order_list = itertools.permutations(list(enumerate(available_snps)), 2)\n",
    "    return pair_order_list\n",
    "\n",
    "\n",
    "# --------------------------------------------------\n",
    "def get_recombination_frequency_df(df, pair_order_list):\n",
    "    result_df = pd.DataFrame()\n",
    "    result_df['query_snp_1'] = result_df['query_snp_2'] = result_df['recombination_frequency'] = None\n",
    "    cnt = 0\n",
    "\n",
    "    for item in list(pair_order_list):\n",
    "        cnt+= 1\n",
    "        first_snp = item[0][1]\n",
    "        second_snp = item[1][1]\n",
    "        recombination_frequency = get_single_recombination_frequency(df, str(first_snp), str(second_snp))\n",
    "        result_df.at[cnt, 'recombination_frequency'] = recombination_frequency\n",
    "        result_df.at[cnt, 'query_snp_1'] = first_snp\n",
    "        result_df.at[cnt, 'query_snp_2'] = second_snp\n",
    "        \n",
    "    recombination_frequency_df = result_df.drop_duplicates(subset=['recombination_frequency'])\n",
    "\n",
    "    return recombination_frequency_df.sort_values(by='recombination_frequency', ascending=False)"
   ]
  },
  {
   "cell_type": "code",
   "execution_count": 3,
   "metadata": {},
   "outputs": [],
   "source": [
    "df = pd.read_excel('./BarleyChrom1.xlsx').drop('Unnamed: 0', axis=1)\n",
    "available_snps = [item for item in df.columns.to_list() if 'SNP' in item]\n",
    "pair_order_list = get_pair_order_list(available_snps)\n",
    "recombination_frequency_df = get_recombination_frequency_df(df, pair_order_list)"
   ]
  },
  {
   "cell_type": "code",
   "execution_count": 4,
   "metadata": {},
   "outputs": [
    {
     "data": {
      "text/html": [
       "<div>\n",
       "<style scoped>\n",
       "    .dataframe tbody tr th:only-of-type {\n",
       "        vertical-align: middle;\n",
       "    }\n",
       "\n",
       "    .dataframe tbody tr th {\n",
       "        vertical-align: top;\n",
       "    }\n",
       "\n",
       "    .dataframe thead th {\n",
       "        text-align: right;\n",
       "    }\n",
       "</style>\n",
       "<table border=\"1\" class=\"dataframe\">\n",
       "  <thead>\n",
       "    <tr style=\"text-align: right;\">\n",
       "      <th></th>\n",
       "      <th>query_snp_1</th>\n",
       "      <th>query_snp_2</th>\n",
       "      <th>recombination_frequency</th>\n",
       "    </tr>\n",
       "  </thead>\n",
       "  <tbody>\n",
       "    <tr>\n",
       "      <th>6</th>\n",
       "      <td>SNP2</td>\n",
       "      <td>SNP4</td>\n",
       "      <td>0.170732</td>\n",
       "    </tr>\n",
       "    <tr>\n",
       "      <th>9</th>\n",
       "      <td>SNP3</td>\n",
       "      <td>SNP4</td>\n",
       "      <td>0.121951</td>\n",
       "    </tr>\n",
       "    <tr>\n",
       "      <th>3</th>\n",
       "      <td>SNP1</td>\n",
       "      <td>SNP4</td>\n",
       "      <td>0.097561</td>\n",
       "    </tr>\n",
       "    <tr>\n",
       "      <th>1</th>\n",
       "      <td>SNP1</td>\n",
       "      <td>SNP2</td>\n",
       "      <td>0.073171</td>\n",
       "    </tr>\n",
       "    <tr>\n",
       "      <th>5</th>\n",
       "      <td>SNP2</td>\n",
       "      <td>SNP3</td>\n",
       "      <td>0.04878</td>\n",
       "    </tr>\n",
       "    <tr>\n",
       "      <th>2</th>\n",
       "      <td>SNP1</td>\n",
       "      <td>SNP3</td>\n",
       "      <td>0.02439</td>\n",
       "    </tr>\n",
       "  </tbody>\n",
       "</table>\n",
       "</div>"
      ],
      "text/plain": [
       "  query_snp_1 query_snp_2 recombination_frequency\n",
       "6        SNP2        SNP4                0.170732\n",
       "9        SNP3        SNP4                0.121951\n",
       "3        SNP1        SNP4                0.097561\n",
       "1        SNP1        SNP2                0.073171\n",
       "5        SNP2        SNP3                 0.04878\n",
       "2        SNP1        SNP3                 0.02439"
      ]
     },
     "execution_count": 4,
     "metadata": {},
     "output_type": "execute_result"
    }
   ],
   "source": [
    "recombination_frequency_df"
   ]
  }
 ],
 "metadata": {
  "interpreter": {
   "hash": "36cf16204b8548560b1c020c4e8fb5b57f0e4c58016f52f2d4be01e192833930"
  },
  "kernelspec": {
   "display_name": "Python 3.9.9 64-bit",
   "language": "python",
   "name": "python3"
  },
  "language_info": {
   "codemirror_mode": {
    "name": "ipython",
    "version": 3
   },
   "file_extension": ".py",
   "mimetype": "text/x-python",
   "name": "python",
   "nbconvert_exporter": "python",
   "pygments_lexer": "ipython3",
   "version": "3.9.10"
  },
  "orig_nbformat": 4
 },
 "nbformat": 4,
 "nbformat_minor": 2
}
